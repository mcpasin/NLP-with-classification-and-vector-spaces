{
 "cells": [
  {
   "cell_type": "markdown",
   "metadata": {},
   "source": [
    "# Prediction model PT - testing with air conditioning "
   ]
  },
  {
   "cell_type": "markdown",
   "metadata": {},
   "source": [
    "## Prediction model"
   ]
  },
  {
   "cell_type": "markdown",
   "metadata": {},
   "source": [
    "We'll start experimenting with a ML model for predicting if the car has e.g. air conditioning"
   ]
  },
  {
   "cell_type": "code",
   "execution_count": 164,
   "metadata": {},
   "outputs": [],
   "source": [
    "from sklearn.model_selection import train_test_split"
   ]
  },
  {
   "cell_type": "code",
   "execution_count": 162,
   "metadata": {},
   "outputs": [
    {
     "name": "stdout",
     "output_type": "stream",
     "text": [
      "Index(['id', 'description', 'params', 'damaged', 'is_imported_car',\n",
      "       'upholstery', 'air_conditioning', 'airbag_type',\n",
      "       'security_performance_features', 'comfort_multimedia_features',\n",
      "       'damaged_field', 'is_imported_car_field', 'upholstery_field',\n",
      "       'air_conditioning_field', 'airbag_type_field', 'parking_sensors_field',\n",
      "       'abs_field', 'gps_field', 'cruise_control_field', 'description_clean',\n",
      "       'n_char', 'n_char_cum', 'damaged_descr', 'is_imported_car_descr',\n",
      "       'gps_descr', 'upholstery_descr', 'parking_sensors_descr',\n",
      "       'cruise_control_descr', 'airbag_type_descr', 'abs_descr',\n",
      "       'air_conditioning_descr'],\n",
      "      dtype='object')\n",
      "(10000, 31)\n"
     ]
    }
   ],
   "source": [
    "print(df_new.columns)\n",
    "print(df_new.shape)"
   ]
  },
  {
   "cell_type": "markdown",
   "metadata": {},
   "source": [
    "For now, as response variable we use the variable we created earlier searching for a regex pattern based on our dictionary. Otherwise (safer approach), we should manually read/tag annotate all descriptions."
   ]
  },
  {
   "cell_type": "code",
   "execution_count": 317,
   "metadata": {},
   "outputs": [
    {
     "data": {
      "text/plain": [
       "(10000, 4)"
      ]
     },
     "execution_count": 317,
     "metadata": {},
     "output_type": "execute_result"
    }
   ],
   "source": [
    "df_ml = df_new[['air_conditioning', 'description', 'description_clean', 'air_conditioning_descr']]\n",
    "df_ml.shape"
   ]
  },
  {
   "cell_type": "markdown",
   "metadata": {},
   "source": [
    "Separate predictors and labels"
   ]
  },
  {
   "cell_type": "code",
   "execution_count": 191,
   "metadata": {},
   "outputs": [
    {
     "name": "stdout",
     "output_type": "stream",
     "text": [
      "<class 'pandas.core.frame.DataFrame'>\n",
      "<class 'pandas.core.series.Series'>\n"
     ]
    }
   ],
   "source": [
    "X = df_new['description'].to_frame()\n",
    "y = df_new.air_conditioning_descr\n",
    "\n",
    "print(type(X))\n",
    "print(type(y))"
   ]
  },
  {
   "cell_type": "code",
   "execution_count": 197,
   "metadata": {},
   "outputs": [
    {
     "name": "stdout",
     "output_type": "stream",
     "text": [
      "Proportion of response labels: \n",
      " False    0.8649\n",
      "True     0.1351\n",
      "Name: air_conditioning_descr, dtype: float64\n"
     ]
    }
   ],
   "source": [
    "print(\"Proportion of response labels: \\n\", y.value_counts() / len(y))"
   ]
  },
  {
   "cell_type": "markdown",
   "metadata": {},
   "source": [
    "#### Split training and test data"
   ]
  },
  {
   "cell_type": "code",
   "execution_count": 194,
   "metadata": {},
   "outputs": [
    {
     "name": "stdout",
     "output_type": "stream",
     "text": [
      "Train set: (8000, 1)\n",
      "Test set: (2000, 1)\n"
     ]
    }
   ],
   "source": [
    "X_train, X_test, y_train, y_test = train_test_split(X, y, test_size = 0.2, random_state =40)\n",
    "print(\"Train set:\", X_train.shape)\n",
    "print(\"Test set:\", X_test.shape)"
   ]
  },
  {
   "cell_type": "code",
   "execution_count": 196,
   "metadata": {},
   "outputs": [
    {
     "name": "stdout",
     "output_type": "stream",
     "text": [
      "Proportion in train set\n",
      "  False    0.8625\n",
      "True     0.1375\n",
      "Name: air_conditioning_descr, dtype: float64\n",
      "\n",
      "Proportion in test set\n",
      "  False    0.8745\n",
      "True     0.1255\n",
      "Name: air_conditioning_descr, dtype: float64\n"
     ]
    }
   ],
   "source": [
    "print(\"Proportion in train set\\n \", y_train.value_counts() / len(y_train))\n",
    "print(\"\")\n",
    "print(\"Proportion in test set\\n \", y_test.value_counts() / len(y_test))"
   ]
  },
  {
   "cell_type": "raw",
   "metadata": {},
   "source": [
    "X_train = train_set.drop('air_conditioning_descr', axis=1)\n",
    "y_train = train_set['air_conditioning_descr'].copy()\n",
    "print(type(X_train))\n",
    "print(type(y_train))"
   ]
  },
  {
   "cell_type": "markdown",
   "metadata": {},
   "source": [
    "#### Extract features"
   ]
  },
  {
   "cell_type": "markdown",
   "metadata": {},
   "source": [
    "##### Build frequency of words"
   ]
  },
  {
   "cell_type": "markdown",
   "metadata": {},
   "source": [
    "- We need to transform text tescriptions into a vector that can be used by a ML algorithm.\n",
    "- We'll start extracting words frequenc, using tf-idf (“term frequency-inverse document frequency”). Sklearn offers TfidfVectorizer method for that.\n",
    "- However we will replace TfidfVectorizer default pre-processing step with the one we build earlier - see process_description() function - which is more complete and should reduce further the size of the vector. To do that we initialize the TfidfVectorizer object with a dummy tokenizer and and preprocessor that simply return what they receive. And, instead we will input our own processed descriptions which will be already tokenized and cleaned."
   ]
  },
  {
   "cell_type": "code",
   "execution_count": 220,
   "metadata": {},
   "outputs": [],
   "source": [
    "from sklearn.feature_extraction.text import TfidfVectorizer\n",
    "\n",
    "def dummy_fun(doc):\n",
    "    return doc\n",
    "\n",
    "tfidf = TfidfVectorizer(\n",
    "    analyzer='word',\n",
    "    tokenizer=dummy_fun,\n",
    "    preprocessor=dummy_fun,\n",
    "    token_pattern=None)  "
   ]
  },
  {
   "cell_type": "code",
   "execution_count": 265,
   "metadata": {},
   "outputs": [
    {
     "name": "stdout",
     "output_type": "stream",
     "text": [
      "As viaturas CAROUT Caldas da Rainha têm incluído garantia, documentação, preparação, check-up e revisão efetuada de acordo com o programa da marca, antes da entrega ao nosso cliente. Este anúncio foi publicado por rotina informática, todos os dados carecem de confirmação junto do vendedor.\n"
     ]
    }
   ],
   "source": [
    "print(X_train['description'][0])"
   ]
  },
  {
   "cell_type": "code",
   "execution_count": 266,
   "metadata": {},
   "outputs": [],
   "source": [
    "X_train_proc = X_train['description'].apply(process_description).to_list()"
   ]
  },
  {
   "cell_type": "code",
   "execution_count": 267,
   "metadata": {},
   "outputs": [
    {
     "data": {
      "text/plain": [
       "list"
      ]
     },
     "execution_count": 267,
     "metadata": {},
     "output_type": "execute_result"
    }
   ],
   "source": [
    "type(X_train_proc)"
   ]
  },
  {
   "cell_type": "code",
   "execution_count": 268,
   "metadata": {},
   "outputs": [
    {
     "name": "stdout",
     "output_type": "stream",
     "text": [
      "[['viatur', 'nacional', 'viatur', '24', 'mes', 'garant', 'ncar', 'anúnci', 'coloc', 'rotin', 'informát', 'tod', 'dad', 'carec', 'valid', 'junt', 'consultor', 'comercial'], ['autofix', 'usad', 'certific', 'autofix', 'concretiz', 'sonh', 'desd', '1982', 'intermedi', 'crédit', 'regist', 'banc', 'portugal', 'n', 'º', '000984', 'proteg', 'contr', 'algum', 'imprevist', 'automóv', 'têm', 'garant', 'total', '48', 'mes', 'cobr', 'cust', 'eventu', 'avar', '▶', 'oferec', '4', 'anos', 'garant', 'total', '▶', 'assistent', 'viag', '24h', '24h', '▶', 'linh', 'assistent', 'automóvel', '▶', 'veícul', 'substituiçã', '5', 'dias', '▶', 'garant', '4', 'anos', 'limit', 'quilómetr', 'oficin', 'recomend', 'próxim', 'resident', 'assistent', 'nível', 'nacional', 'país', 'uniã', 'europ', 'autofix', '®', '–', 'automóv', 'qualidad', 'dispõ', 'sistem', 'gestã', 'qualidad', 'certific', 'acord', 'norm', 'np', 'en', 'iso', '9001', 'apcer', 'comercializ', 'viatur', 'nacion', 'semi-nov', 'qualidad', '4', 'anos', 'garant', 'total', 'livr', 'revisã', 'histór', 'manutençã', 'complet', 'sempr', 'assist', 'marc', 'possibil', 'crédit', '120', 'mes', 'entrad', 'aprov', 'hor', 'necessit', 'autofix', '®', 'pod', 'apresentar-lh', 'propost', 'retom', 'carr', 'antig', 'independent', 'marc', 'idad', 'veícul', 'anúnci', 'public', 'rotin', 'informát', 'tod', 'dad', 'carec', 'confirm', 'junt', 'vendedor', 'abert', 'fins', 'seman']]\n"
     ]
    }
   ],
   "source": [
    "print(X_train_proc[0:2])"
   ]
  },
  {
   "cell_type": "markdown",
   "metadata": {},
   "source": [
    "Transform into a vector"
   ]
  },
  {
   "cell_type": "code",
   "execution_count": 269,
   "metadata": {},
   "outputs": [
    {
     "name": "stdout",
     "output_type": "stream",
     "text": [
      "(8000, 11999)\n"
     ]
    }
   ],
   "source": [
    "X_train_vec = tfidf.fit_transform(X_train_proc)\n",
    "print(X_train_vec.shape)"
   ]
  },
  {
   "cell_type": "code",
   "execution_count": 272,
   "metadata": {},
   "outputs": [
    {
     "name": "stdout",
     "output_type": "stream",
     "text": [
      "Pretty large: we have a total of 11999 words in our corpus\n"
     ]
    }
   ],
   "source": [
    "print(\"Pretty large: we have a total of\", X_train_vec.shape[1], \"words in our corpus\")"
   ]
  },
  {
   "cell_type": "code",
   "execution_count": 295,
   "metadata": {},
   "outputs": [
    {
     "data": {
      "text/html": [
       "<div>\n",
       "<style scoped>\n",
       "    .dataframe tbody tr th:only-of-type {\n",
       "        vertical-align: middle;\n",
       "    }\n",
       "\n",
       "    .dataframe tbody tr th {\n",
       "        vertical-align: top;\n",
       "    }\n",
       "\n",
       "    .dataframe thead th {\n",
       "        text-align: right;\n",
       "    }\n",
       "</style>\n",
       "<table border=\"1\" class=\"dataframe\">\n",
       "  <thead>\n",
       "    <tr style=\"text-align: right;\">\n",
       "      <th></th>\n",
       "      <th>###entreg</th>\n",
       "      <th>##consult</th>\n",
       "      <th>##intermediári</th>\n",
       "      <th>##visit</th>\n",
       "      <th>#525</th>\n",
       "      <th>#abarth</th>\n",
       "      <th>#alfarom</th>\n",
       "      <th>#aud</th>\n",
       "      <th>#automov</th>\n",
       "      <th>#autostatus</th>\n",
       "      <th>#banix</th>\n",
       "      <th>#bmw</th>\n",
       "      <th>#carr</th>\n",
       "      <th>#cars</th>\n",
       "      <th>#chevrolet</th>\n",
       "      <th>#citroen</th>\n",
       "      <th>#comercioaut</th>\n",
       "      <th>#concessionari</th>\n",
       "      <th>#dac</th>\n",
       "    </tr>\n",
       "  </thead>\n",
       "  <tbody>\n",
       "    <tr>\n",
       "      <th>0</th>\n",
       "      <td>0.0</td>\n",
       "      <td>0.0</td>\n",
       "      <td>0.0</td>\n",
       "      <td>0.0</td>\n",
       "      <td>0.0</td>\n",
       "      <td>0.0</td>\n",
       "      <td>0.0</td>\n",
       "      <td>0.0</td>\n",
       "      <td>0.0</td>\n",
       "      <td>0.0</td>\n",
       "      <td>0.0</td>\n",
       "      <td>0.0</td>\n",
       "      <td>0.0</td>\n",
       "      <td>0.0</td>\n",
       "      <td>0.0</td>\n",
       "      <td>0.0</td>\n",
       "      <td>0.0</td>\n",
       "      <td>0.0</td>\n",
       "      <td>0.0</td>\n",
       "    </tr>\n",
       "    <tr>\n",
       "      <th>1</th>\n",
       "      <td>0.0</td>\n",
       "      <td>0.0</td>\n",
       "      <td>0.0</td>\n",
       "      <td>0.0</td>\n",
       "      <td>0.0</td>\n",
       "      <td>0.0</td>\n",
       "      <td>0.0</td>\n",
       "      <td>0.0</td>\n",
       "      <td>0.0</td>\n",
       "      <td>0.0</td>\n",
       "      <td>0.0</td>\n",
       "      <td>0.0</td>\n",
       "      <td>0.0</td>\n",
       "      <td>0.0</td>\n",
       "      <td>0.0</td>\n",
       "      <td>0.0</td>\n",
       "      <td>0.0</td>\n",
       "      <td>0.0</td>\n",
       "      <td>0.0</td>\n",
       "    </tr>\n",
       "  </tbody>\n",
       "</table>\n",
       "</div>"
      ],
      "text/plain": [
       "   ###entreg  ##consult  ##intermediári  ##visit  #525  #abarth  #alfarom  \\\n",
       "0        0.0        0.0             0.0      0.0   0.0      0.0       0.0   \n",
       "1        0.0        0.0             0.0      0.0   0.0      0.0       0.0   \n",
       "\n",
       "   #aud  #automov  #autostatus  #banix  #bmw  #carr  #cars  #chevrolet  \\\n",
       "0   0.0       0.0          0.0     0.0   0.0    0.0    0.0         0.0   \n",
       "1   0.0       0.0          0.0     0.0   0.0    0.0    0.0         0.0   \n",
       "\n",
       "   #citroen  #comercioaut  #concessionari  #dac  \n",
       "0       0.0           0.0             0.0   0.0  \n",
       "1       0.0           0.0             0.0   0.0  "
      ]
     },
     "execution_count": 295,
     "metadata": {},
     "output_type": "execute_result"
    }
   ],
   "source": [
    "#We can transform it into a 2D array and show it as a dataframe. \n",
    "#Lets inspect the first two descriptions and show only the first 20 words\n",
    "vocabulary = tfidf.get_feature_names()\n",
    "pd.DataFrame(data=X_train_vec.toarray(), columns=vocabulary).iloc[0:2,1:20]"
   ]
  },
  {
   "cell_type": "code",
   "execution_count": 296,
   "metadata": {
    "collapsed": true,
    "jupyter": {
     "outputs_hidden": true
    }
   },
   "outputs": [
    {
     "data": {
      "text/plain": [
       "['###atençã',\n",
       " '###entreg',\n",
       " '##consult',\n",
       " '##intermediári',\n",
       " '##visit',\n",
       " '#525',\n",
       " '#abarth',\n",
       " '#alfarom',\n",
       " '#aud',\n",
       " '#automov',\n",
       " '#autostatus',\n",
       " '#banix',\n",
       " '#bmw',\n",
       " '#carr',\n",
       " '#cars',\n",
       " '#chevrolet',\n",
       " '#citroen',\n",
       " '#comercioaut',\n",
       " '#concessionari',\n",
       " '#dac',\n",
       " '#eucomproemcas',\n",
       " '#europcar2ndmovept',\n",
       " '#europcarpt',\n",
       " '#fiat',\n",
       " '#ford',\n",
       " '#hyunda',\n",
       " '#iv',\n",
       " '#jeep',\n",
       " '#ki',\n",
       " '#lexus',\n",
       " '#ma',\n",
       " '#mazd',\n",
       " '#mercedesbenz',\n",
       " '#min',\n",
       " '#minicoop',\n",
       " '#mitsubish',\n",
       " '#nacional',\n",
       " '#nicec',\n",
       " '#nissan',\n",
       " '#opel',\n",
       " '#packm',\n",
       " '#peugeot',\n",
       " '#port',\n",
       " '#renault',\n",
       " '#rotacaospot',\n",
       " '#seat',\n",
       " '#seminov',\n",
       " '#skod',\n",
       " '#smart',\n",
       " '#subaru',\n",
       " '#toyot',\n",
       " '#us',\n",
       " '#volkswagen',\n",
       " '#volv',\n",
       " '#vw',\n",
       " '(8',\n",
       " '):',\n",
       " ');',\n",
       " ')=',\n",
       " '+4.675',\n",
       " '+90.000',\n",
       " '--->',\n",
       " '-->',\n",
       " '-12.500',\n",
       " '-12:30',\n",
       " '-150,000',\n",
       " '-19:00',\n",
       " '-19:30',\n",
       " '-2013-2',\n",
       " '-250,00',\n",
       " '-70-32',\n",
       " '-8.865760',\n",
       " '-9,20183',\n",
       " '-9.193530',\n",
       " '-92-80',\n",
       " '->',\n",
       " '.   .',\n",
       " '.   ..',\n",
       " '.   \\u2028.',\n",
       " '.  .',\n",
       " '. .',\n",
       " '. . .',\n",
       " '. ..',\n",
       " '. ...',\n",
       " '. \\u2028  .',\n",
       " '..',\n",
       " '...',\n",
       " '...   .',\n",
       " '...  .',\n",
       " '...  ...',\n",
       " '... .',\n",
       " '... ...',\n",
       " '.\\u2028  .',\n",
       " '/8',\n",
       " '0',\n",
       " '0,00',\n",
       " '0-100',\n",
       " '0.000',\n",
       " '0.26',\n",
       " '0.9']"
      ]
     },
     "execution_count": 296,
     "metadata": {},
     "output_type": "execute_result"
    }
   ],
   "source": [
    "#Lets see the first 100 words\n",
    "vocabulary[0:100]"
   ]
  },
  {
   "cell_type": "markdown",
   "metadata": {},
   "source": [
    "All right...we might want to perform further cleaning inside our pre-processing step i.e. remove hashtags and numbers. This should reduce significantly the size of our vocabulary and so the word vector."
   ]
  },
  {
   "cell_type": "code",
   "execution_count": 297,
   "metadata": {},
   "outputs": [
    {
     "data": {
      "text/html": [
       "<div>\n",
       "<style scoped>\n",
       "    .dataframe tbody tr th:only-of-type {\n",
       "        vertical-align: middle;\n",
       "    }\n",
       "\n",
       "    .dataframe tbody tr th {\n",
       "        vertical-align: top;\n",
       "    }\n",
       "\n",
       "    .dataframe thead th {\n",
       "        text-align: right;\n",
       "    }\n",
       "</style>\n",
       "<table border=\"1\" class=\"dataframe\">\n",
       "  <thead>\n",
       "    <tr style=\"text-align: right;\">\n",
       "      <th></th>\n",
       "      <th>###atençã</th>\n",
       "      <th>###entreg</th>\n",
       "      <th>##consult</th>\n",
       "      <th>##intermediári</th>\n",
       "      <th>##visit</th>\n",
       "      <th>#525</th>\n",
       "      <th>#abarth</th>\n",
       "      <th>#alfarom</th>\n",
       "      <th>#aud</th>\n",
       "      <th>#automov</th>\n",
       "    </tr>\n",
       "  </thead>\n",
       "  <tbody>\n",
       "    <tr>\n",
       "      <th>0</th>\n",
       "      <td>0.596280</td>\n",
       "      <td>0.59628</td>\n",
       "      <td>0.0</td>\n",
       "      <td>0.0</td>\n",
       "      <td>0.0</td>\n",
       "      <td>0.0</td>\n",
       "      <td>0.0</td>\n",
       "      <td>0.000000</td>\n",
       "      <td>0.0</td>\n",
       "      <td>0.0</td>\n",
       "    </tr>\n",
       "    <tr>\n",
       "      <th>1</th>\n",
       "      <td>0.733945</td>\n",
       "      <td>0.00000</td>\n",
       "      <td>0.0</td>\n",
       "      <td>0.0</td>\n",
       "      <td>0.0</td>\n",
       "      <td>0.0</td>\n",
       "      <td>0.0</td>\n",
       "      <td>0.679209</td>\n",
       "      <td>0.0</td>\n",
       "      <td>0.0</td>\n",
       "    </tr>\n",
       "  </tbody>\n",
       "</table>\n",
       "</div>"
      ],
      "text/plain": [
       "   ###atençã  ###entreg  ##consult  ##intermediári  ##visit  #525  #abarth  \\\n",
       "0   0.596280    0.59628        0.0             0.0      0.0   0.0      0.0   \n",
       "1   0.733945    0.00000        0.0             0.0      0.0   0.0      0.0   \n",
       "\n",
       "   #alfarom  #aud  #automov  \n",
       "0  0.000000   0.0       0.0  \n",
       "1  0.679209   0.0       0.0  "
      ]
     },
     "execution_count": 297,
     "metadata": {},
     "output_type": "execute_result"
    }
   ],
   "source": [
    "#Suppose we have this corpus of tokens: calculate td-idf vector given our vocabulary built earlier\n",
    "test = [\n",
    "    ['###atençã', '###entreg', 'hola', '#bmw', 'carro'],\n",
    "    ['###atençã', '#alfarom', 'ciao']\n",
    "]\n",
    "test_vec = tfidf.transform(test)\n",
    "pd.DataFrame(data=test_vec.toarray(), columns=vocabulary).iloc[:, 0:10]"
   ]
  },
  {
   "cell_type": "code",
   "execution_count": 148,
   "metadata": {},
   "outputs": [
    {
     "name": "stdout",
     "output_type": "stream",
     "text": [
      "--\n"
     ]
    }
   ],
   "source": [
    "def extract_features():\n",
    "    print('--')\n",
    "\n",
    "extract_features()"
   ]
  },
  {
   "cell_type": "markdown",
   "metadata": {},
   "source": [
    "#### Train Naive Bayes classifier"
   ]
  },
  {
   "cell_type": "code",
   "execution_count": 299,
   "metadata": {},
   "outputs": [
    {
     "data": {
      "text/plain": [
       "pandas.core.series.Series"
      ]
     },
     "execution_count": 299,
     "metadata": {},
     "output_type": "execute_result"
    }
   ],
   "source": [
    "type(y_train)"
   ]
  },
  {
   "cell_type": "code",
   "execution_count": 300,
   "metadata": {},
   "outputs": [
    {
     "data": {
      "text/plain": [
       "MultinomialNB()"
      ]
     },
     "execution_count": 300,
     "metadata": {},
     "output_type": "execute_result"
    }
   ],
   "source": [
    "# Create model(naive bayes) and training. \n",
    "from sklearn.naive_bayes import MultinomialNB\n",
    "clf = MultinomialNB()\n",
    "\n",
    "clf.fit(X_train_vec, y_train)"
   ]
  },
  {
   "cell_type": "code",
   "execution_count": 382,
   "metadata": {},
   "outputs": [
    {
     "name": "stdout",
     "output_type": "stream",
     "text": [
      "[False False False False False False False False False  True False  True\n",
      " False False False False  True False False False]\n"
     ]
    }
   ],
   "source": [
    "print(clf.predict(X_train_vec[80:100]))"
   ]
  },
  {
   "cell_type": "code",
   "execution_count": 381,
   "metadata": {},
   "outputs": [
    {
     "name": "stdout",
     "output_type": "stream",
     "text": [
      "5140    False\n",
      "7149    False\n",
      "9758    False\n",
      "1061    False\n",
      "2594    False\n",
      "7847     True\n",
      "6538    False\n",
      "2093     True\n",
      "2743    False\n",
      "6373    False\n",
      "2589    False\n",
      "3633     True\n",
      "8898    False\n",
      "3053    False\n",
      "455     False\n",
      "6428    False\n",
      "8721     True\n",
      "7772     True\n",
      "6817    False\n",
      "1257    False\n",
      "Name: air_conditioning_descr, dtype: bool\n"
     ]
    }
   ],
   "source": [
    "#print(X_train['description'][3:5])\n",
    "print(y_train[80:100])"
   ]
  },
  {
   "cell_type": "code",
   "execution_count": 386,
   "metadata": {},
   "outputs": [
    {
     "data": {
      "text/html": [
       "<div>\n",
       "<style scoped>\n",
       "    .dataframe tbody tr th:only-of-type {\n",
       "        vertical-align: middle;\n",
       "    }\n",
       "\n",
       "    .dataframe tbody tr th {\n",
       "        vertical-align: top;\n",
       "    }\n",
       "\n",
       "    .dataframe thead th {\n",
       "        text-align: right;\n",
       "    }\n",
       "</style>\n",
       "<table border=\"1\" class=\"dataframe\">\n",
       "  <thead>\n",
       "    <tr style=\"text-align: right;\">\n",
       "      <th></th>\n",
       "      <th>air_conditioning</th>\n",
       "      <th>description</th>\n",
       "      <th>description_clean</th>\n",
       "      <th>air_conditioning_descr</th>\n",
       "    </tr>\n",
       "  </thead>\n",
       "  <tbody>\n",
       "    <tr>\n",
       "      <th>7772</th>\n",
       "      <td></td>\n",
       "      <td>PEUGEOT 1007  1.4 HDIA NACIONAL - Viatura proveniente de retoma, vendida no estado de uso que se encontra. Uma viatura espaçosa e com a fiabilidade da marca. Versátil devido á sua configuração interior e espaço a bordo. Equipado com o motor 1.4 HDI, um dos motores mais fiáveis do mercado, super econômico e robusto.\\r\\n&lt;br&gt;Equipado com extras como  JLL, AR CONDICIONADO DIGITAL, RADIO CD, DIREÇÃO ASSITIDA,  VIDROS ELETRICOS , VOLANTE DESPORTIVO EM COM COMANDOS DE RADIO VOLANTE, etc.\\r\\n&lt;br&gt;Viatura com a garantia da agradabilidade de condução. Com possibilidade de troca e financiamento a 100 por cento. Visite-nos e comprove o excelente estado de todas as nossas viaturas sem qualquer tipo de compromisso. Aguardamos por si de segunda a domingo. Garantia e revisão geral por mútuo acordo.Este anúncio foi publicado por rotina informática, todos os dados carecem de confirmação junto do vendedor.**PREÇO FIXO**.</td>\n",
       "      <td>PEUGEOT 1007  1.4 HDIA NACIONAL - Viatura proveniente de retoma, vendida no estado de uso que se encontra. Uma viatura espaçosa e com a fiabilidade da marca. Versátil devido á sua configuração interior e espaço a bordo. Equipado com o motor 1.4 HDI, um dos motores mais fiáveis do mercado, super econômico e robusto.  Equipado com extras como  JLL, AR CONDICIONADO DIGITAL, RADIO CD, DIREÇÃO ASSITIDA,  VIDROS ELETRICOS , VOLANTE DESPORTIVO EM COM COMANDOS DE RADIO VOLANTE, etc.  Viatura com a garantia da agradabilidade de condução. Com possibilidade de troca e financiamento a 100 por cento. Visite-nos e comprove o excelente estado de todas as nossas viaturas sem qualquer tipo de compromisso. Aguardamos por si de segunda a domingo. Garantia e revisão geral por mútuo acordo.Este anúncio foi publicado por rotina informática, todos os dados carecem de confirmação junto do vendedor.**PREÇO FIXO**.</td>\n",
       "      <td>True</td>\n",
       "    </tr>\n",
       "    <tr>\n",
       "      <th>7773</th>\n",
       "      <td>independente</td>\n",
       "      <td>VIATURA, em Excelente Estado.\\r\\n\\r\\nPintura em Excelente estado sem mossas, Interior como novo!!!!\\r\\n\\r\\nAlguns dos Extras: PACK AMG, Caixa Automática com Patilhas no Volante, Jantes Especiais, Acabamentos em alumínio, Faróis Led, Faróis Reguláveis em altura, Retrovisores com Regulação Elétrica e Rebatíveis, Retrovisores com Anti Encadeamento, Vidros Elétricos dianteiro e traseiro, Vidros Atérmicos, Apoio de Braço, Encostos de Cabeça Traseiros, Bancos em Pele e Tecido Desportivos, Volante em Pele Multifunções Regulável em profundidade e Altura, Sensores de Estacionamento frente e Trás, Direção assistida, Fecho automático das Portas em andamento, Fecho Central com Comando, Sensores de Chuva, Computador de Bordo, Bluetooth, Cruise Control, Radio com CD.\\r\\n\\r\\nDisponibilizamos as nossas viaturas para check-up na marca.\\r\\nGarantia Negociável de 12 meses (Por mutuo acordo)\\r\\n\\r\\nEstou ao dispor para qualquer esclarecimento.\\r\\nContacto Preferencialmente por Telemóvel.\\r\\n\\r\\n***Possibilidade de fazer uma videochamada através do Whatsapp\\r\\n\\r\\nRETOMA:\\r\\nAceitamos a sua viatura como retoma (favor enviar por email fotos e características para uma avaliação mais correta)\\r\\n\\r\\n****Possibilidade de financiamento até 120 meses com ou sem entrada inicial.\\r\\n\\r\\n****Se está a ver este anúncio no OLX, clique no link do STANDVIRTUAL para ver mais fotografias desta viatura\\r\\n\\r\\nTodos os anúncios são colocados por rotina informática, todos os dados carecem de confirmação junto do vendedor.</td>\n",
       "      <td>VIATURA, em Excelente Estado.    Pintura em Excelente estado sem mossas, Interior como novo!!!!    Alguns dos Extras: PACK AMG, Caixa Automática com Patilhas no Volante, Jantes Especiais, Acabamentos em alumínio, Faróis Led, Faróis Reguláveis em altura, Retrovisores com Regulação Elétrica e Rebatíveis, Retrovisores com Anti Encadeamento, Vidros Elétricos dianteiro e traseiro, Vidros Atérmicos, Apoio de Braço, Encostos de Cabeça Traseiros, Bancos em Pele e Tecido Desportivos, Volante em Pele Multifunções Regulável em profundidade e Altura, Sensores de Estacionamento frente e Trás, Direção assistida, Fecho automático das Portas em andamento, Fecho Central com Comando, Sensores de Chuva, Computador de Bordo, Bluetooth, Cruise Control, Radio com CD.    Disponibilizamos as nossas viaturas para check-up na marca.  Garantia Negociável de 12 meses (Por mutuo acordo)    Estou ao dispor para qualquer esclarecimento.  Contacto Preferencialmente por Telemóvel.    ***Possibilidade de fazer uma videochamada através do Whatsapp    RETOMA:  Aceitamos a sua viatura como retoma (favor enviar por email fotos e características para uma avaliação mais correta)    ****Possibilidade de financiamento até 120 meses com ou sem entrada inicial.    ****Se está a ver este anúncio no OLX, clique no link do STANDVIRTUAL para ver mais fotografias desta viatura    Todos os anúncios são colocados por rotina informática, todos os dados carecem de confirmação junto do vendedor.</td>\n",
       "      <td>False</td>\n",
       "    </tr>\n",
       "    <tr>\n",
       "      <th>7774</th>\n",
       "      <td>automatico</td>\n",
       "      <td>As viaturas Auto LEANDRO SANTOS Comércio de Automóveis Lda têm incluído garantia, documentação, preparação, check-up e revisão efetuada de acordo com o programa da marca, antes da entrega. Este anúncio foi publicado por rotina informática, todos os dados carecem de confirmação junto do vendedor.</td>\n",
       "      <td>As viaturas Auto LEANDRO SANTOS Comércio de Automóveis Lda têm incluído garantia, documentação, preparação, check-up e revisão efetuada de acordo com o programa da marca, antes da entrega. Este anúncio foi publicado por rotina informática, todos os dados carecem de confirmação junto do vendedor.</td>\n",
       "      <td>False</td>\n",
       "    </tr>\n",
       "  </tbody>\n",
       "</table>\n",
       "</div>"
      ],
      "text/plain": [
       "     air_conditioning  \\\n",
       "7772                    \n",
       "7773     independente   \n",
       "7774       automatico   \n",
       "\n",
       "                                                                                                                                                                                                                                                                                                                                                                                                                                                                                                                                                                                                                                                                                                                                                                                                                                                                                                                                                                                                                                                                                                                                                                                                                                                                                                                                                                                                                                                                                                                                                               description  \\\n",
       "7772                                                                                                                                                                                                                                                                                                                                                                                                                                                                                                                                                                                                                    PEUGEOT 1007  1.4 HDIA NACIONAL - Viatura proveniente de retoma, vendida no estado de uso que se encontra. Uma viatura espaçosa e com a fiabilidade da marca. Versátil devido á sua configuração interior e espaço a bordo. Equipado com o motor 1.4 HDI, um dos motores mais fiáveis do mercado, super econômico e robusto.\\r\\n<br>Equipado com extras como  JLL, AR CONDICIONADO DIGITAL, RADIO CD, DIREÇÃO ASSITIDA,  VIDROS ELETRICOS , VOLANTE DESPORTIVO EM COM COMANDOS DE RADIO VOLANTE, etc.\\r\\n<br>Viatura com a garantia da agradabilidade de condução. Com possibilidade de troca e financiamento a 100 por cento. Visite-nos e comprove o excelente estado de todas as nossas viaturas sem qualquer tipo de compromisso. Aguardamos por si de segunda a domingo. Garantia e revisão geral por mútuo acordo.Este anúncio foi publicado por rotina informática, todos os dados carecem de confirmação junto do vendedor.**PREÇO FIXO**.   \n",
       "7773  VIATURA, em Excelente Estado.\\r\\n\\r\\nPintura em Excelente estado sem mossas, Interior como novo!!!!\\r\\n\\r\\nAlguns dos Extras: PACK AMG, Caixa Automática com Patilhas no Volante, Jantes Especiais, Acabamentos em alumínio, Faróis Led, Faróis Reguláveis em altura, Retrovisores com Regulação Elétrica e Rebatíveis, Retrovisores com Anti Encadeamento, Vidros Elétricos dianteiro e traseiro, Vidros Atérmicos, Apoio de Braço, Encostos de Cabeça Traseiros, Bancos em Pele e Tecido Desportivos, Volante em Pele Multifunções Regulável em profundidade e Altura, Sensores de Estacionamento frente e Trás, Direção assistida, Fecho automático das Portas em andamento, Fecho Central com Comando, Sensores de Chuva, Computador de Bordo, Bluetooth, Cruise Control, Radio com CD.\\r\\n\\r\\nDisponibilizamos as nossas viaturas para check-up na marca.\\r\\nGarantia Negociável de 12 meses (Por mutuo acordo)\\r\\n\\r\\nEstou ao dispor para qualquer esclarecimento.\\r\\nContacto Preferencialmente por Telemóvel.\\r\\n\\r\\n***Possibilidade de fazer uma videochamada através do Whatsapp\\r\\n\\r\\nRETOMA:\\r\\nAceitamos a sua viatura como retoma (favor enviar por email fotos e características para uma avaliação mais correta)\\r\\n\\r\\n****Possibilidade de financiamento até 120 meses com ou sem entrada inicial.\\r\\n\\r\\n****Se está a ver este anúncio no OLX, clique no link do STANDVIRTUAL para ver mais fotografias desta viatura\\r\\n\\r\\nTodos os anúncios são colocados por rotina informática, todos os dados carecem de confirmação junto do vendedor.   \n",
       "7774                                                                                                                                                                                                                                                                                                                                                                                                                                                                                                                                                                                                                                                                                                                                                                                                                                                                                                                                                                                                                                                                                                                                                                                                                                                              As viaturas Auto LEANDRO SANTOS Comércio de Automóveis Lda têm incluído garantia, documentação, preparação, check-up e revisão efetuada de acordo com o programa da marca, antes da entrega. Este anúncio foi publicado por rotina informática, todos os dados carecem de confirmação junto do vendedor.   \n",
       "\n",
       "                                                                                                                                                                                                                                                                                                                                                                                                                                                                                                                                                                                                                                                                                                                                                                                                                                                                                                                                                                                                                                                                                                                                                                                                                                                                                                                                                                                                                                                                                                               description_clean  \\\n",
       "7772                                                                                                                                                                                                                                                                                                                                                                                                                                                                                                                                                                                      PEUGEOT 1007  1.4 HDIA NACIONAL - Viatura proveniente de retoma, vendida no estado de uso que se encontra. Uma viatura espaçosa e com a fiabilidade da marca. Versátil devido á sua configuração interior e espaço a bordo. Equipado com o motor 1.4 HDI, um dos motores mais fiáveis do mercado, super econômico e robusto.  Equipado com extras como  JLL, AR CONDICIONADO DIGITAL, RADIO CD, DIREÇÃO ASSITIDA,  VIDROS ELETRICOS , VOLANTE DESPORTIVO EM COM COMANDOS DE RADIO VOLANTE, etc.  Viatura com a garantia da agradabilidade de condução. Com possibilidade de troca e financiamento a 100 por cento. Visite-nos e comprove o excelente estado de todas as nossas viaturas sem qualquer tipo de compromisso. Aguardamos por si de segunda a domingo. Garantia e revisão geral por mútuo acordo.Este anúncio foi publicado por rotina informática, todos os dados carecem de confirmação junto do vendedor.**PREÇO FIXO**.   \n",
       "7773  VIATURA, em Excelente Estado.    Pintura em Excelente estado sem mossas, Interior como novo!!!!    Alguns dos Extras: PACK AMG, Caixa Automática com Patilhas no Volante, Jantes Especiais, Acabamentos em alumínio, Faróis Led, Faróis Reguláveis em altura, Retrovisores com Regulação Elétrica e Rebatíveis, Retrovisores com Anti Encadeamento, Vidros Elétricos dianteiro e traseiro, Vidros Atérmicos, Apoio de Braço, Encostos de Cabeça Traseiros, Bancos em Pele e Tecido Desportivos, Volante em Pele Multifunções Regulável em profundidade e Altura, Sensores de Estacionamento frente e Trás, Direção assistida, Fecho automático das Portas em andamento, Fecho Central com Comando, Sensores de Chuva, Computador de Bordo, Bluetooth, Cruise Control, Radio com CD.    Disponibilizamos as nossas viaturas para check-up na marca.  Garantia Negociável de 12 meses (Por mutuo acordo)    Estou ao dispor para qualquer esclarecimento.  Contacto Preferencialmente por Telemóvel.    ***Possibilidade de fazer uma videochamada através do Whatsapp    RETOMA:  Aceitamos a sua viatura como retoma (favor enviar por email fotos e características para uma avaliação mais correta)    ****Possibilidade de financiamento até 120 meses com ou sem entrada inicial.    ****Se está a ver este anúncio no OLX, clique no link do STANDVIRTUAL para ver mais fotografias desta viatura    Todos os anúncios são colocados por rotina informática, todos os dados carecem de confirmação junto do vendedor.   \n",
       "7774                                                                                                                                                                                                                                                                                                                                                                                                                                                                                                                                                                                                                                                                                                                                                                                                                                                                                                                                                                                                                                                                                                                                                                                                                    As viaturas Auto LEANDRO SANTOS Comércio de Automóveis Lda têm incluído garantia, documentação, preparação, check-up e revisão efetuada de acordo com o programa da marca, antes da entrega. Este anúncio foi publicado por rotina informática, todos os dados carecem de confirmação junto do vendedor.   \n",
       "\n",
       "      air_conditioning_descr  \n",
       "7772                    True  \n",
       "7773                   False  \n",
       "7774                   False  "
      ]
     },
     "execution_count": 386,
     "metadata": {},
     "output_type": "execute_result"
    }
   ],
   "source": [
    "df_ml[7772:7775]"
   ]
  },
  {
   "cell_type": "code",
   "execution_count": 374,
   "metadata": {},
   "outputs": [],
   "source": [
    "#riga 194: il modello identifica correttamente ma il mio label diceva che non c'era!!!\n",
    "#reason: the user misspelled \"ar condicionado\" to \"ar condiconado\" >> detrction model did not find it, but ML which user stemming probably was able to catch it!"
   ]
  },
  {
   "cell_type": "code",
   "execution_count": 362,
   "metadata": {},
   "outputs": [
    {
     "data": {
      "text/html": [
       "<div>\n",
       "<style scoped>\n",
       "    .dataframe tbody tr th:only-of-type {\n",
       "        vertical-align: middle;\n",
       "    }\n",
       "\n",
       "    .dataframe tbody tr th {\n",
       "        vertical-align: top;\n",
       "    }\n",
       "\n",
       "    .dataframe thead th {\n",
       "        text-align: right;\n",
       "    }\n",
       "</style>\n",
       "<table border=\"1\" class=\"dataframe\">\n",
       "  <thead>\n",
       "    <tr style=\"text-align: right;\">\n",
       "      <th></th>\n",
       "      <th>air_conditioning</th>\n",
       "      <th>description</th>\n",
       "      <th>description_clean</th>\n",
       "      <th>air_conditioning_descr</th>\n",
       "    </tr>\n",
       "  </thead>\n",
       "  <tbody>\n",
       "    <tr>\n",
       "      <th>193</th>\n",
       "      <td></td>\n",
       "      <td>Viatura Impecavel de mecanica. Tem direcçao assistida. IP0 até 2022. Pneus novos.</td>\n",
       "      <td>Viatura Impecavel de mecanica. Tem direcçao assistida. IP0 até 2022. Pneus novos.</td>\n",
       "      <td>False</td>\n",
       "    </tr>\n",
       "    <tr>\n",
       "      <th>194</th>\n",
       "      <td>automatico</td>\n",
       "      <td>Renault Scenic 1.5 DCi Confort Dynamique\\r\\n&lt;br&gt;Primeira Matrícula: 2004-05\\r\\n&lt;br&gt;Combustível: Gasóleo\\r\\n&lt;br&gt;Portas: 5. Lugares: 5.\\r\\n&lt;br&gt;Cilindrada: 1461cm3 Potência: 80cv.\\r\\n&lt;br&gt;Quilometragem: 182.000km\\r\\n&lt;br&gt;\\r\\n&lt;br&gt;Extras/vantagens:\\r\\n&lt;br&gt;Veiculo nacional impecável de tudo.\\r\\n&lt;br&gt;Fecho central com comando à distância.\\r\\n&lt;br&gt;Faróis reguláveis em altura.\\r\\n&lt;br&gt;Faróis de nevoerio.\\r\\n&lt;br&gt;Vidros elétricos: 4.\\r\\n&lt;br&gt;Retrovisores com regulação eléctrica.\\r\\n&lt;br&gt;Sensores de luzes automático.\\r\\n&lt;br&gt;Sensores de chuva automático.\\r\\n&lt;br&gt;Sensores de estacionamento de origem.\\r\\n&lt;br&gt;Travão de portas para crianças.\\r\\n&lt;br&gt;Airbags: 6.\\r\\n&lt;br&gt;Auto-rádio de origem com cd.\\r\\n&lt;br&gt;Volante em pele.\\r\\n&lt;br&gt;Computador de bordo.\\r\\n&lt;br&gt;Botão start&amp;stop.\\r\\n&lt;br&gt;ESP. ABS.\\r\\n&lt;br&gt;Isofix.\\r\\n&lt;br&gt;Ar condiconado automático.\\r\\n&lt;br&gt;Cortinas de sol nas portas traseiras.\\r\\n&lt;br&gt;Jantes de liga leve 16”.\\r\\n&lt;br&gt;Documentação em dia. Inspeção até Maio de 2022.\\r\\n&lt;br&gt;\\r\\n&lt;br&gt;&lt;h2&gt;&lt;span style=\"color: #ff0000;\"&gt;&lt;strong&gt;Quais as vantagens em comprar connosco durante este mês?&lt;/strong&gt;&lt;/span&gt;&lt;/h2&gt;\\r\\n&lt;br&gt;&lt;p&gt;&lt;br /&gt;&lt;strong&gt;- Acompanhamento personalizado do veículo que tem interesse:  fornecemos toda informação necessária e condições de venda, enviamos fotografias e vídeos via whatsapp/e-mail durante o processo de compra e preparação do mesmo.&lt;/strong&gt;&lt;br /&gt;&lt;strong&gt;\\r\\n&lt;br&gt;\\r\\n&lt;br&gt;- Oferta de kit sensores de estacionamento com distância em metros. &lt;/strong&gt;&lt;br /&gt;&lt;strong&gt;\\r\\n&lt;br&gt;\\r\\n&lt;br&gt;- Oferta revisão de óleo e filtros para 10.000 km’s nos carros a gasolina e 20.000 km’s nos diesel. &lt;/strong&gt;&lt;br /&gt;&lt;strong&gt;\\r\\n&lt;br&gt;\\r\\n&lt;br&gt;- Qualquer veículo do grupo Rocha Automóveis passa por um controlo de qualidade com mais de 30 itens que são vistos numa das nossas oficinas antes da entrega, além da revisão de óleo e filtros, travões e pneus que já fazemos habitualmente. Este serviço serve para garantir a satisfação dos nossos clientes e a segurança dos nossos veículos. O nosso grande êxito no mercado deve-se a esta forma</td>\n",
       "      <td>Renault Scenic 1.5 DCi Confort Dynamique  Primeira Matrícula: 2004-05  Combustível: Gasóleo  Portas: 5. Lugares: 5.  Cilindrada: 1461cm3 Potência: 80cv.  Quilometragem: 182.000km   Extras/vantagens:  Veiculo nacional impecável de tudo.  Fecho central com comando à distância.  Faróis reguláveis em altura.  Faróis de nevoerio.  Vidros elétricos: 4.  Retrovisores com regulação eléctrica.  Sensores de luzes automático.  Sensores de chuva automático.  Sensores de estacionamento de origem.  Travão de portas para crianças.  Airbags: 6.  Auto-rádio de origem com cd.  Volante em pele.  Computador de bordo.  Botão start&amp;stop.  ESP. ABS.  Isofix.  Ar condiconado automático.  Cortinas de sol nas portas traseiras.  Jantes de liga leve 16”.  Documentação em dia. Inspeção até Maio de 2022.   Quais as vantagens em comprar connosco durante este mês? - Acompanhamento personalizado do veículo que tem interesse:  fornecemos toda informação necessária e condições de venda, enviamos fotografias e vídeos via whatsapp/e-mail durante o processo de compra e preparação do mesmo.  - Oferta de kit sensores de estacionamento com distância em metros.   - Oferta revisão de óleo e filtros para 10.000 km’s nos carros a gasolina e 20.000 km’s nos diesel.   - Qualquer veículo do grupo Rocha Automóveis passa por um controlo de qualidade com mais de 30 itens que são vistos numa das nossas oficinas antes da entrega, além da revisão de óleo e filtros, travões e pneus que já fazemos habitualmente. Este serviço serve para garantir a satisfação dos nossos clientes e a segurança dos nossos veículos. O nosso grande êxito no mercado deve-se a esta forma</td>\n",
       "      <td>False</td>\n",
       "    </tr>\n",
       "  </tbody>\n",
       "</table>\n",
       "</div>"
      ],
      "text/plain": [
       "    air_conditioning  \\\n",
       "193                    \n",
       "194       automatico   \n",
       "\n",
       "                                                                                                                                                                                                                                                                                                                                                                                                                                                                                                                                                                                                                                                                                                                                                                                                                                                                                                                                                                                                                                                                                                                                                                                                                                                                                                                                                                                                                                                                                                                                                                                                                                                                                                                                                                                                                                                                                                                                                                                                                                                                                         description  \\\n",
       "193                                                                                                                                                                                                                                                                                                                                                                                                                                                                                                                                                                                                                                                                                                                                                                                                                                                                                                                                                                                                                                                                                                                                                                                                                                                                                                                                                                                                                                                                                                                                                                                                                                                                                                                                                                                                                                                                                                                                                                                                                Viatura Impecavel de mecanica. Tem direcçao assistida. IP0 até 2022. Pneus novos.   \n",
       "194  Renault Scenic 1.5 DCi Confort Dynamique\\r\\n<br>Primeira Matrícula: 2004-05\\r\\n<br>Combustível: Gasóleo\\r\\n<br>Portas: 5. Lugares: 5.\\r\\n<br>Cilindrada: 1461cm3 Potência: 80cv.\\r\\n<br>Quilometragem: 182.000km\\r\\n<br>\\r\\n<br>Extras/vantagens:\\r\\n<br>Veiculo nacional impecável de tudo.\\r\\n<br>Fecho central com comando à distância.\\r\\n<br>Faróis reguláveis em altura.\\r\\n<br>Faróis de nevoerio.\\r\\n<br>Vidros elétricos: 4.\\r\\n<br>Retrovisores com regulação eléctrica.\\r\\n<br>Sensores de luzes automático.\\r\\n<br>Sensores de chuva automático.\\r\\n<br>Sensores de estacionamento de origem.\\r\\n<br>Travão de portas para crianças.\\r\\n<br>Airbags: 6.\\r\\n<br>Auto-rádio de origem com cd.\\r\\n<br>Volante em pele.\\r\\n<br>Computador de bordo.\\r\\n<br>Botão start&stop.\\r\\n<br>ESP. ABS.\\r\\n<br>Isofix.\\r\\n<br>Ar condiconado automático.\\r\\n<br>Cortinas de sol nas portas traseiras.\\r\\n<br>Jantes de liga leve 16”.\\r\\n<br>Documentação em dia. Inspeção até Maio de 2022.\\r\\n<br>\\r\\n<br><h2><span style=\"color: #ff0000;\"><strong>Quais as vantagens em comprar connosco durante este mês?</strong></span></h2>\\r\\n<br><p><br /><strong>- Acompanhamento personalizado do veículo que tem interesse:  fornecemos toda informação necessária e condições de venda, enviamos fotografias e vídeos via whatsapp/e-mail durante o processo de compra e preparação do mesmo.</strong><br /><strong>\\r\\n<br>\\r\\n<br>- Oferta de kit sensores de estacionamento com distância em metros. </strong><br /><strong>\\r\\n<br>\\r\\n<br>- Oferta revisão de óleo e filtros para 10.000 km’s nos carros a gasolina e 20.000 km’s nos diesel. </strong><br /><strong>\\r\\n<br>\\r\\n<br>- Qualquer veículo do grupo Rocha Automóveis passa por um controlo de qualidade com mais de 30 itens que são vistos numa das nossas oficinas antes da entrega, além da revisão de óleo e filtros, travões e pneus que já fazemos habitualmente. Este serviço serve para garantir a satisfação dos nossos clientes e a segurança dos nossos veículos. O nosso grande êxito no mercado deve-se a esta forma   \n",
       "\n",
       "                                                                                                                                                                                                                                                                                                                                                                                                                                                                                                                                                                                                                                                                                                                                                                                                                                                                                                                                                                                                                                                                                                                                                                                                                                                                                                                                                                                                                                                                                                                                                                                                                                                                                       description_clean  \\\n",
       "193                                                                                                                                                                                                                                                                                                                                                                                                                                                                                                                                                                                                                                                                                                                                                                                                                                                                                                                                                                                                                                                                                                                                                                                                                                                                                                                                                                                                                                                                                                                                                                                                                    Viatura Impecavel de mecanica. Tem direcçao assistida. IP0 até 2022. Pneus novos.   \n",
       "194  Renault Scenic 1.5 DCi Confort Dynamique  Primeira Matrícula: 2004-05  Combustível: Gasóleo  Portas: 5. Lugares: 5.  Cilindrada: 1461cm3 Potência: 80cv.  Quilometragem: 182.000km   Extras/vantagens:  Veiculo nacional impecável de tudo.  Fecho central com comando à distância.  Faróis reguláveis em altura.  Faróis de nevoerio.  Vidros elétricos: 4.  Retrovisores com regulação eléctrica.  Sensores de luzes automático.  Sensores de chuva automático.  Sensores de estacionamento de origem.  Travão de portas para crianças.  Airbags: 6.  Auto-rádio de origem com cd.  Volante em pele.  Computador de bordo.  Botão start&stop.  ESP. ABS.  Isofix.  Ar condiconado automático.  Cortinas de sol nas portas traseiras.  Jantes de liga leve 16”.  Documentação em dia. Inspeção até Maio de 2022.   Quais as vantagens em comprar connosco durante este mês? - Acompanhamento personalizado do veículo que tem interesse:  fornecemos toda informação necessária e condições de venda, enviamos fotografias e vídeos via whatsapp/e-mail durante o processo de compra e preparação do mesmo.  - Oferta de kit sensores de estacionamento com distância em metros.   - Oferta revisão de óleo e filtros para 10.000 km’s nos carros a gasolina e 20.000 km’s nos diesel.   - Qualquer veículo do grupo Rocha Automóveis passa por um controlo de qualidade com mais de 30 itens que são vistos numa das nossas oficinas antes da entrega, além da revisão de óleo e filtros, travões e pneus que já fazemos habitualmente. Este serviço serve para garantir a satisfação dos nossos clientes e a segurança dos nossos veículos. O nosso grande êxito no mercado deve-se a esta forma   \n",
       "\n",
       "     air_conditioning_descr  \n",
       "193                   False  \n",
       "194                   False  "
      ]
     },
     "execution_count": 362,
     "metadata": {},
     "output_type": "execute_result"
    }
   ],
   "source": [
    "df_ml[193:195]"
   ]
  },
  {
   "cell_type": "code",
   "execution_count": 367,
   "metadata": {},
   "outputs": [],
   "source": [
    "lexicon_pt = {\"damaged\": [\"danificado\", \"estragado\", \"avariado\", \"acidentado\"],\n",
    "              \"is_imported_car\": [\"importado\"],\n",
    "              \"gps\": [\"gps\", \"navegação\"],\n",
    "              \"upholstery\": [\"estofos\"],\n",
    "              \"parking_sensors\": [\"sensores de estacionamento\", \"park assist\", \"sensores de parqueamento\", \"sensor de estacionamento\", \"sensores traseiros\", \"sensores frontais\"],\n",
    "              \"cruise_control\": [\"cruise\"],\n",
    "              \"airbag_type\": [\"airbag\", \"airbags\"],\n",
    "              \"abs\": [\"abs\"],\n",
    "              \"air_conditioning\": [\"a/c\", \"ac\",  \"ar condicionado\", \"condicionado\"]\n",
    "            }"
   ]
  },
  {
   "cell_type": "code",
   "execution_count": 368,
   "metadata": {},
   "outputs": [
    {
     "name": "stdout",
     "output_type": "stream",
     "text": [
      "['a/c', 'ac', 'ar condicionado', 'condicionado']\n"
     ]
    },
    {
     "data": {
      "text/plain": [
       "193    False\n",
       "194    False\n",
       "Name: description_clean, dtype: bool"
      ]
     },
     "execution_count": 368,
     "metadata": {},
     "output_type": "execute_result"
    }
   ],
   "source": [
    "#detect_param_description(df_ml[193:195], 'air_conditioning', lexicon_pt, text_col='description')\n",
    "param_to_detect = 'air_conditioning'\n",
    "search_list = lexicon_pt[param_to_detect]\n",
    "print(search_list)\n",
    "    \n",
    "#build regex pattern to search; use \\b \\b to match only whole words; ingore case\n",
    "p = re.compile(r'\\b(?:{})\\b'.format( '|'.join(map(re.escape, search_list))),re.IGNORECASE)\n",
    "#p\n",
    "#type(p)\n",
    "\n",
    "description_series = df_ml['description_clean'][193:195].str.lower()\n",
    "\n",
    "response = description_series.str.contains(p)\n",
    "response\n",
    "\n",
    "#text = 'serve para garantir a satisfação dos nosso'\n",
    "#type(text)\n",
    "#response = text.find(p)\n",
    "\n",
    "#response = p.match(text)\n",
    "#response"
   ]
  },
  {
   "cell_type": "code",
   "execution_count": 356,
   "metadata": {},
   "outputs": [
    {
     "data": {
      "text/plain": [
       "193                                                                                                                                                                                                                                                                                                                                                                                                                                                                                                                                                                                                                                                                                                                                                                                                                                                                                                                                                                                                                                                                                                                                                                                                                                                                                                                                                                                                                                                                                                                                                                                                                      viatura impecavel de mecanica. tem direcçao assistida. ip0 até 2022. pneus novos.\n",
       "194    renault scenic 1.5 dci confort dynamique  primeira matrícula: 2004-05  combustível: gasóleo  portas: 5. lugares: 5.  cilindrada: 1461cm3 potência: 80cv.  quilometragem: 182.000km   extras/vantagens:  veiculo nacional impecável de tudo.  fecho central com comando à distância.  faróis reguláveis em altura.  faróis de nevoerio.  vidros elétricos: 4.  retrovisores com regulação eléctrica.  sensores de luzes automático.  sensores de chuva automático.  sensores de estacionamento de origem.  travão de portas para crianças.  airbags: 6.  auto-rádio de origem com cd.  volante em pele.  computador de bordo.  botão start&stop.  esp. abs.  isofix.  ar condiconado automático.  cortinas de sol nas portas traseiras.  jantes de liga leve 16”.  documentação em dia. inspeção até maio de 2022.   quais as vantagens em comprar connosco durante este mês? - acompanhamento personalizado do veículo que tem interesse:  fornecemos toda informação necessária e condições de venda, enviamos fotografias e vídeos via whatsapp/e-mail durante o processo de compra e preparação do mesmo.  - oferta de kit sensores de estacionamento com distância em metros.   - oferta revisão de óleo e filtros para 10.000 km’s nos carros a gasolina e 20.000 km’s nos diesel.   - qualquer veículo do grupo rocha automóveis passa por um controlo de qualidade com mais de 30 itens que são vistos numa das nossas oficinas antes da entrega, além da revisão de óleo e filtros, travões e pneus que já fazemos habitualmente. este serviço serve para garantir a satisfação dos nossos clientes e a segurança dos nossos veículos. o nosso grande êxito no mercado deve-se a esta forma\n",
       "Name: description_clean, dtype: object"
      ]
     },
     "execution_count": 356,
     "metadata": {},
     "output_type": "execute_result"
    }
   ],
   "source": [
    "desscription_series = df_ml['description_clean'][193:195].str.lower()\n",
    "desscription_series"
   ]
  }
 ],
 "metadata": {
  "kernelspec": {
   "display_name": "Python 3",
   "language": "python",
   "name": "python3"
  },
  "language_info": {
   "codemirror_mode": {
    "name": "ipython",
    "version": 3
   },
   "file_extension": ".py",
   "mimetype": "text/x-python",
   "name": "python",
   "nbconvert_exporter": "python",
   "pygments_lexer": "ipython3",
   "version": "3.8.5"
  }
 },
 "nbformat": 4,
 "nbformat_minor": 4
}
